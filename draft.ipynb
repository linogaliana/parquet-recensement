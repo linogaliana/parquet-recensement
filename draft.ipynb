{
 "cells": [
  {
   "cell_type": "code",
   "execution_count": 3,
   "metadata": {},
   "outputs": [
    {
     "name": "stderr",
     "output_type": "stream",
     "text": [
      "BPE23.parquet: 172MiB [00:09, 18.4MiB/s] "
     ]
    },
    {
     "name": "stdout",
     "output_type": "stream",
     "text": [
      "File downloaded successfully: BPE23.parquet\n"
     ]
    },
    {
     "name": "stderr",
     "output_type": "stream",
     "text": [
      "\n"
     ]
    }
   ],
   "source": [
    "import requests\n",
    "from tqdm import tqdm\n",
    "\n",
    "url_table_logement = \"https://www.data.gouv.fr/fr/datasets/r/f314175a-6d33-4ee4-b5eb-2cb6c29df2c2\"\n",
    "url_table_individu = \"https://www.data.gouv.fr/fr/datasets/r/c8e1b241-75fe-43e9-a266-830fc30ec61d\"\n",
    "url_doc_logement = \"https://www.data.gouv.fr/fr/datasets/r/c274705f-98db-4d9b-9674-578e04f03198\"\n",
    "url_doc_individu = \"https://www.data.gouv.fr/fr/datasets/r/1c6c6ab2-b766-41a4-90f0-043173d5e9d1\"\n",
    "url_bpe = \"https://www.insee.fr/fr/statistiques/fichier/8217525/BPE23.parquet\"\n",
    "\n",
    "def download_file(url: str, filename: str) -> None:\n",
    "    try:\n",
    "        # Send a GET request to the URL\n",
    "        response = requests.get(url, stream=True)\n",
    "        # Raise an exception for HTTP errors\n",
    "        response.raise_for_status()\n",
    "        \n",
    "        # Get the total file size from the headers (if available)\n",
    "        total_size = int(response.headers.get('content-length', 0))\n",
    "        block_size = 1024  # 1 Kilobyte\n",
    "\n",
    "        # Progress bar setup\n",
    "        progress_bar = tqdm(total=total_size, unit='iB', unit_scale=True, desc=filename)\n",
    "        \n",
    "        # Write the content to the file\n",
    "        with open(filename, 'wb') as file:\n",
    "            for chunk in response.iter_content(chunk_size=block_size):\n",
    "                progress_bar.update(len(chunk))\n",
    "                file.write(chunk)\n",
    "        \n",
    "        progress_bar.close()\n",
    "        print(f\"File downloaded successfully: {filename}\")\n",
    "    \n",
    "    except requests.exceptions.RequestException as e:\n",
    "        print(f\"Failed to download the file: {e}\")\n",
    "\n",
    "\n",
    "download_file(url_table_logement, \"RPlogement.parquet\")\n",
    "download_file(url_table_individu, \"RPindividus.parquet\")\n",
    "download_file(url_doc_logement, \"RPlogement_doc.csv\")\n",
    "download_file(url_doc_individu, \"RPindividus_doc.csv\")\n",
    "download_file(url_bpe, \"BPE23.parquet\")"
   ]
  },
  {
   "cell_type": "code",
   "execution_count": 16,
   "metadata": {},
   "outputs": [],
   "source": [
    "import duckdb\n",
    "\n",
    "# établissements d'enseignement\n",
    "# Dico variable https://www.insee.fr/fr/statistiques/8217525?sommaire=8217537#consulter\n",
    "\n",
    "bpe = duckdb.sql(\n",
    "\"\"\"\n",
    "SELECT * \n",
    "FROM read_parquet('BPE23.parquet') \n",
    "WHERE DEPCOM = '93001' \n",
    "  AND starts_with(TYPEQU, 'C')\n",
    "  AND NOT (starts_with(TYPEQU, 'C6') OR starts_with(TYPEQU, 'C7'))\n",
    "\"\"\"\n",
    ").to_df()"
   ]
  }
 ],
 "metadata": {
  "kernelspec": {
   "display_name": "base",
   "language": "python",
   "name": "python3"
  },
  "language_info": {
   "codemirror_mode": {
    "name": "ipython",
    "version": 3
   },
   "file_extension": ".py",
   "mimetype": "text/x-python",
   "name": "python",
   "nbconvert_exporter": "python",
   "pygments_lexer": "ipython3",
   "version": "3.12.5"
  }
 },
 "nbformat": 4,
 "nbformat_minor": 2
}
