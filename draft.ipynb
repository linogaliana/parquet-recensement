{
 "cells": [
  {
   "cell_type": "code",
   "execution_count": 6,
   "metadata": {},
   "outputs": [
    {
     "name": "stderr",
     "output_type": "stream",
     "text": [
      "RPlogement.parquet: 100%|██████████| 504M/504M [00:07<00:00, 64.0MiB/s] \n"
     ]
    },
    {
     "name": "stdout",
     "output_type": "stream",
     "text": [
      "File downloaded successfully: RPlogement.parquet\n"
     ]
    },
    {
     "name": "stderr",
     "output_type": "stream",
     "text": [
      "RPindividus.parquet: 100%|██████████| 533M/533M [00:18<00:00, 29.0MiB/s]    \n"
     ]
    },
    {
     "name": "stdout",
     "output_type": "stream",
     "text": [
      "File downloaded successfully: RPindividus.parquet\n"
     ]
    },
    {
     "name": "stderr",
     "output_type": "stream",
     "text": [
      "RPlogement_doc.csv: 36.4kiB [00:00, 20.6MiB/s]\n"
     ]
    },
    {
     "name": "stdout",
     "output_type": "stream",
     "text": [
      "File downloaded successfully: RPlogement_doc.csv\n"
     ]
    },
    {
     "name": "stderr",
     "output_type": "stream",
     "text": [
      "RPindividus_doc.csv: 48.6kiB [00:00, 4.51MiB/s]"
     ]
    },
    {
     "name": "stdout",
     "output_type": "stream",
     "text": [
      "File downloaded successfully: RPindividus_doc.csv\n"
     ]
    },
    {
     "name": "stderr",
     "output_type": "stream",
     "text": [
      "\n"
     ]
    }
   ],
   "source": [
    "import requests\n",
    "from tqdm import tqdm\n",
    "\n",
    "url_table_logement = \"https://www.data.gouv.fr/fr/datasets/r/f314175a-6d33-4ee4-b5eb-2cb6c29df2c2\"\n",
    "url_table_individu = \"https://www.data.gouv.fr/fr/datasets/r/c8e1b241-75fe-43e9-a266-830fc30ec61d\"\n",
    "url_doc_logement = \"https://www.data.gouv.fr/fr/datasets/r/c274705f-98db-4d9b-9674-578e04f03198\"\n",
    "url_doc_individu = \"https://www.data.gouv.fr/fr/datasets/r/1c6c6ab2-b766-41a4-90f0-043173d5e9d1\"\n",
    "\n",
    "def download_file(url: str, filename: str) -> None:\n",
    "    try:\n",
    "        # Send a GET request to the URL\n",
    "        response = requests.get(url, stream=True)\n",
    "        # Raise an exception for HTTP errors\n",
    "        response.raise_for_status()\n",
    "        \n",
    "        # Get the total file size from the headers (if available)\n",
    "        total_size = int(response.headers.get('content-length', 0))\n",
    "        block_size = 1024  # 1 Kilobyte\n",
    "\n",
    "        # Progress bar setup\n",
    "        progress_bar = tqdm(total=total_size, unit='iB', unit_scale=True, desc=filename)\n",
    "        \n",
    "        # Write the content to the file\n",
    "        with open(filename, 'wb') as file:\n",
    "            for chunk in response.iter_content(chunk_size=block_size):\n",
    "                progress_bar.update(len(chunk))\n",
    "                file.write(chunk)\n",
    "        \n",
    "        progress_bar.close()\n",
    "        print(f\"File downloaded successfully: {filename}\")\n",
    "    \n",
    "    except requests.exceptions.RequestException as e:\n",
    "        print(f\"Failed to download the file: {e}\")\n",
    "\n",
    "\n",
    "download_file(url_table_logement, \"RPlogement.parquet\")\n",
    "download_file(url_table_individu, \"RPindividus.parquet\")\n",
    "download_file(url_doc_logement, \"RPlogement_doc.csv\")\n",
    "download_file(url_doc_individu, \"RPindividus_doc.csv\")"
   ]
  },
  {
   "cell_type": "code",
   "execution_count": 10,
   "metadata": {},
   "outputs": [
    {
     "data": {
      "text/plain": [
       "┌─────────┬─────────┬───────────┬─────────┬───────┬───┬─────────┬─────────┬─────────┬─────────┬─────────┬─────────┐\n",
       "│ COMMUNE │   ARM   │   IRIS    │  ACHL   │ AEMM  │ … │ TRANSM  │ TRIRIS  │  TYPC   │  TYPL   │  VOIT   │   WC    │\n",
       "│ varchar │ varchar │  varchar  │ varchar │ int32 │   │ varchar │ varchar │ varchar │ varchar │ varchar │ varchar │\n",
       "├─────────┼─────────┼───────────┼─────────┼───────┼───┼─────────┼─────────┼─────────┼─────────┼─────────┼─────────┤\n",
       "│ 01001   │ ZZZZZ   │ ZZZZZZZZZ │ B12     │     0 │ … │ Y       │ ZZZZZZ  │ Y       │ 1       │ X       │ Z       │\n",
       "│ 01001   │ ZZZZZ   │ ZZZZZZZZZ │ B12     │     0 │ … │ Y       │ ZZZZZZ  │ Y       │ 1       │ X       │ Z       │\n",
       "│ 01001   │ ZZZZZ   │ ZZZZZZZZZ │ B12     │     0 │ … │ Y       │ ZZZZZZ  │ Y       │ 1       │ X       │ Z       │\n",
       "│ 01001   │ ZZZZZ   │ ZZZZZZZZZ │ A12     │     0 │ … │ Y       │ ZZZZZZ  │ Y       │ 1       │ X       │ Z       │\n",
       "│ 01001   │ ZZZZZ   │ ZZZZZZZZZ │ A12     │     0 │ … │ Y       │ ZZZZZZ  │ Y       │ 1       │ X       │ Z       │\n",
       "├─────────┴─────────┴───────────┴─────────┴───────┴───┴─────────┴─────────┴─────────┴─────────┴─────────┴─────────┤\n",
       "│ 5 rows                                                                                    69 columns (11 shown) │\n",
       "└─────────────────────────────────────────────────────────────────────────────────────────────────────────────────┘"
      ]
     },
     "execution_count": 10,
     "metadata": {},
     "output_type": "execute_result"
    }
   ],
   "source": [
    "import duckdb\n",
    "\n",
    "duckdb.sql(\"SELECT * FROM read_parquet('RPlogement.parquet') WHERE CATL == 3 LIMIT 5 \")"
   ]
  }
 ],
 "metadata": {
  "kernelspec": {
   "display_name": "base",
   "language": "python",
   "name": "python3"
  },
  "language_info": {
   "codemirror_mode": {
    "name": "ipython",
    "version": 3
   },
   "file_extension": ".py",
   "mimetype": "text/x-python",
   "name": "python",
   "nbconvert_exporter": "python",
   "pygments_lexer": "ipython3",
   "version": "3.12.4"
  }
 },
 "nbformat": 4,
 "nbformat_minor": 2
}
